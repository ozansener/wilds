{
 "cells": [
  {
   "cell_type": "code",
   "execution_count": 1,
   "id": "collaborative-motor",
   "metadata": {},
   "outputs": [],
   "source": [
    "import glob\n",
    "import numpy as np\n",
    "import matplotlib.pyplot as plt\n",
    "\n",
    "import csv\n",
    "import os\n",
    "import re"
   ]
  },
  {
   "cell_type": "code",
   "execution_count": 2,
   "id": "arbitrary-wilson",
   "metadata": {},
   "outputs": [],
   "source": [
    "%matplotlib inline"
   ]
  },
  {
   "cell_type": "code",
   "execution_count": 3,
   "id": "durable-chemical",
   "metadata": {},
   "outputs": [],
   "source": [
    "def read_to_dict(file_name):\n",
    "    res_dict = {}\n",
    "    keym = {}\n",
    "    with open(file_name, newline='') as csvfile:\n",
    "        csv_reader = csv.reader(csvfile, delimiter=',')\n",
    "        for i, row in enumerate(csv_reader):\n",
    "            if i == 0:\n",
    "                for j, rr in enumerate(row):\n",
    "                    res_dict[rr] = []\n",
    "                    keym[j] = rr\n",
    "            else:\n",
    "                for j, rr in enumerate(row):\n",
    "                    if j not in keym:\n",
    "                        print('error')\n",
    "                        break\n",
    "                    res_dict[keym[j]].append(float(rr))\n",
    "    return res_dict"
   ]
  },
  {
   "cell_type": "code",
   "execution_count": 4,
   "id": "personal-shooting",
   "metadata": {},
   "outputs": [],
   "source": [
    "def early_stop(result_dict, key1, key2, max_ep):\n",
    "    if max_ep is None:\n",
    "        best_ep_0 = np.argmax(np.array(result_dict[key1]))\n",
    "        best_ep_1 = np.argmax(np.array(result_dict[key2]))\n",
    "    else:\n",
    "        best_ep_0 = np.argmax(np.array(result_dict[key1][0:max_ep]))\n",
    "        best_ep_1 = np.argmax(np.array(result_dict[key2][0:max_ep]))\n",
    "    return best_ep_0, 9#best_ep_1"
   ]
  },
  {
   "cell_type": "code",
   "execution_count": 5,
   "id": "medical-october",
   "metadata": {},
   "outputs": [],
   "source": [
    "def collect_results(entries, res_keys, which, max_ep):\n",
    "    map_k = {0:\"test\", 1:\"val\", 2:\"id_test\", 3: \"train\"}\n",
    "    res = {}\n",
    "    for i in range(2):\n",
    "        res[i] = {\"test\":{}, \"val\":{}, \"id_test\":{}, \"train\":{}}\n",
    "        for dic in [\"test\", \"val\", \"id_test\", \"train\"]:\n",
    "            for res_k in res_keys:\n",
    "                res[i][dic][res_k] = []\n",
    "    for entry in entries:\n",
    "        e1,e2 = early_stop(entries[entry][which],res_keys[0], res_keys[1], max_ep)\n",
    "        for i, e_v in enumerate([e1, e2]):\n",
    "            for res_k in res_keys:\n",
    "                for j_id in range(4):\n",
    "                    if entries[entry][j_id] is None:\n",
    "                        continue\n",
    "                    if e_v >= len(entries[entry][j_id][res_k]):\n",
    "                        print(\"Error\", res_k, len(entries[entry][j_id][res_k]), map_k[j_id])\n",
    "                        res[i][map_k[j_id]][res_k].append(entries[entry][j_id][res_k][-1])\n",
    "                    else:\n",
    "                        res[i][map_k[j_id]][res_k].append(entries[entry][j_id][res_k][e_v])\n",
    "\n",
    "    return res\n",
    "def print_row(row, res_keys):\n",
    "    final_str = \"\"\n",
    "    for res_k in res_keys:\n",
    "        final_str += \" {:04.2f}\".format(100*np.mean(row[res_k]))\n",
    "        final_str += \" {:04.2f}\".format(100*np.std(row[res_k]))\n",
    "    return final_str"
   ]
  },
  {
   "cell_type": "code",
   "execution_count": 6,
   "id": "established-constitution",
   "metadata": {},
   "outputs": [],
   "source": [
    "def parse_config(log_di, my_keys):\n",
    "    config = open(log_di+'log.txt').read().split('\\n')\n",
    "    dat_conf = {}\n",
    "    for ll in config:\n",
    "        if 'Epoch [0]' in ll:\n",
    "            break\n",
    "        if 'Dataset kwargs' in ll and '{}' not in ll:\n",
    "            dat_conf[ll.split(':')[0]] = ll.split(':')[2]\n",
    "        elif ll.split(':')[0] in my_keys:\n",
    "            dat_conf[ll.split(':')[0]] = ll.split(':')[1]\n",
    "    return dat_conf\n",
    "\n",
    "def parse_config_orig(log_di, my_keys):\n",
    "    config = open(log_di+'log.txt').read().split('\\n')\n",
    "    dat_conf = {}\n",
    "    for ll in config:\n",
    "        if 'Epoch [0]' in ll:\n",
    "            break\n",
    "        if ll.split(':')[0] in my_keys:\n",
    "            dat_conf[ll.split(':')[0]] = ll.split(':')[1]\n",
    "    return dat_conf"
   ]
  },
  {
   "cell_type": "code",
   "execution_count": 7,
   "id": "incredible-pension",
   "metadata": {},
   "outputs": [],
   "source": [
    "log_dicts = sorted(glob.glob('./new_logs_ab*/'), key= lambda x:int(x.split('_')[-1].split('/')[0]))"
   ]
  },
  {
   "cell_type": "code",
   "execution_count": 8,
   "id": "worse-imperial",
   "metadata": {},
   "outputs": [
    {
     "name": "stdout",
     "output_type": "stream",
     "text": [
      "./new_logs_ablation_0/  -1_ 0_ 3e-05\n",
      "./new_logs_ablation_1/  -1_ 0_ 3e-05\n",
      "./new_logs_ablation_2/  -1_ 0_ 3e-05\n",
      "./new_logs_ablation_3/  -1_ 1_ 3e-05\n",
      "./new_logs_ablation_4/  -1_ 1_ 3e-05\n",
      "./new_logs_ablation_5/  -1_ 1_ 3e-05\n",
      "./new_logs_ablation_6/  -1_ 2_ 3e-05\n",
      "./new_logs_ablation_7/  -1_ 2_ 3e-05\n",
      "./new_logs_ablation_8/  -1_ 2_ 3e-05\n",
      "./new_logs_ablation_9/  -1_ 3_ 3e-05\n",
      "./new_logs_ablation_10/  -1_ 3_ 3e-05\n",
      "./new_logs_ablation_11/  -1_ 3_ 3e-05\n",
      "./new_logs_ablation_12/  -1_ 4_ 3e-05\n",
      "./new_logs_ablation_13/  -1_ 4_ 3e-05\n",
      "./new_logs_ablation_14/  -1_ 4_ 3e-05\n",
      "./new_logs_ablation_15/  -1_ 5_ 3e-05\n",
      "./new_logs_ablation_16/  -1_ 5_ 3e-05\n",
      "./new_logs_ablation_17/  -1_ 5_ 3e-05\n",
      "./new_logs_ablation_18/  2_ 0_ 3e-05\n",
      "./new_logs_ablation_19/  2_ 0_ 3e-05\n",
      "./new_logs_ablation_20/  2_ 0_ 3e-05\n",
      "./new_logs_ablation_21/  2_ 1_ 3e-05\n",
      "./new_logs_ablation_22/  2_ 1_ 3e-05\n",
      "./new_logs_ablation_23/  2_ 1_ 3e-05\n",
      "./new_logs_ablation_24/  2_ 2_ 3e-05\n",
      "./new_logs_ablation_25/  2_ 2_ 3e-05\n",
      "./new_logs_ablation_26/  2_ 2_ 3e-05\n",
      "./new_logs_ablation_27/  2_ 3_ 3e-05\n",
      "./new_logs_ablation_28/  2_ 3_ 3e-05\n",
      "./new_logs_ablation_29/  2_ 3_ 3e-05\n",
      "./new_logs_ablation_30/  2_ 4_ 3e-05\n",
      "./new_logs_ablation_31/  2_ 4_ 3e-05\n",
      "./new_logs_ablation_32/  2_ 4_ 3e-05\n",
      "./new_logs_ablation_33/  2_ 5_ 3e-05\n",
      "./new_logs_ablation_34/  2_ 5_ 3e-05\n",
      "./new_logs_ablation_35/  2_ 5_ 3e-05\n"
     ]
    }
   ],
   "source": [
    "my_keys = ['Dataset', 'Algorithm', 'Uniform over groups', 'Distinct groups', 'N groups per batch']\n",
    "my_keys += ['Batch size', 'Rd type', 'Warm start epoch', 'Control only direction', 'Only inconsistent']\n",
    "my_keys += ['Without sampling', 'Lr', 'Weight decay', 'Seed']\n",
    "\n",
    "exps = {}\n",
    "for log_di in log_dicts:\n",
    "    dat_conf = parse_config_orig(log_di, my_keys)\n",
    "    if not dat_conf['Dataset'] == ' iwildcam':\n",
    "        continue\n",
    "    exp_name = \"{}_{}_{}\".format(dat_conf['Warm start epoch'], dat_conf['Rd type'], dat_conf['Lr'])\n",
    "    if exp_name not in exps:\n",
    "        exps[exp_name] = {}\n",
    "    exps[exp_name][dat_conf['Seed']] = (read_to_dict(log_di+'test_eval.csv'), \n",
    "                                        read_to_dict(log_di+'val_eval.csv'), \n",
    "                                        read_to_dict(log_di+'id_test_eval.csv'),\n",
    "                                        read_to_dict(log_di+'train_eval.csv'))\n",
    "    print(log_di, exp_name)"
   ]
  },
  {
   "cell_type": "code",
   "execution_count": 12,
   "id": "graduate-refund",
   "metadata": {},
   "outputs": [
    {
     "name": "stdout",
     "output_type": "stream",
     "text": [
      " -1_ 0_ 3e-05\n",
      "Te\t 0.03300138314565023 0.021559831678537995\n",
      "0.7335458993911743\n",
      "0.700544516245524\n",
      "0.033001383145650265\n",
      "Te\t 0.032714903354644775 0.02089691431447121\n",
      "0.7388602693875631\n",
      "0.7061453660329183\n",
      "0.032714903354644775\n",
      " -1_ 1_ 3e-05\n",
      "Te\t 0.029089152812957764 0.025002675977335204\n",
      "0.7140462597211202\n",
      "0.6849571069081625\n",
      "0.029089152812957764\n",
      "Te\t 0.04732125997543335 0.010793568426243629\n",
      "0.7233668565750122\n",
      "0.6760455965995789\n",
      "0.04732125997543335\n",
      " -1_ 2_ 3e-05\n",
      "Te\t 0.022402524948120117 0.011542196683491582\n",
      "0.7182568709055582\n",
      "0.7074073155721029\n",
      "0.01084955533345533\n",
      "Te\t 0.031235615412394207 0.01234607061316756\n",
      "0.6869430144627889\n",
      "0.6881041924158732\n",
      "-0.0011611779530842359\n",
      " -1_ 3_ 3e-05\n",
      "Te\t 0.042725165685017906 0.01219150067726539\n",
      "0.7402910590171814\n",
      "0.7246617277463278\n",
      "0.01562933127085364\n",
      "Te\t 0.020977636178334553 0.003912323237987352\n",
      "0.7197694381078085\n",
      "0.6987918019294739\n",
      "0.02097763617833459\n",
      " -1_ 4_ 3e-05\n",
      "Te\t 0.04720093806584676 0.02114740373193361\n",
      "0.6891096433003744\n",
      "0.6550832390785217\n",
      "0.03402640422185266\n",
      "Te\t 0.04423977931340536 0.023850779322473637\n",
      "0.6724715828895569\n",
      "0.6282318035761515\n",
      "0.04423977931340539\n",
      " -1_ 5_ 3e-05\n",
      "Te\t 0.027791510025660198 0.023248963014070895\n",
      "0.4482053816318512\n",
      "0.4373271663983663\n",
      "0.010878215233484922\n",
      "Te\t 0.04460585468768841 0.03633525802088116\n",
      "0.256029755755056\n",
      "0.3006317489804739\n",
      "-0.04460199322541791\n",
      " 2_ 0_ 3e-05\n",
      "Te\t 0.01651110251744588 0.010541317565693284\n",
      "0.7568473418553671\n",
      "0.7651920517285665\n",
      "-0.008344709873199463\n",
      "Te\t 0.055289248625437416 0.015317525091784863\n",
      "0.735385517279307\n",
      "0.6800962686538696\n",
      "0.05528924862543738\n",
      " 2_ 1_ 3e-05\n",
      "Te\t 0.01651110251744588 0.010541317565693284\n",
      "0.7568473418553671\n",
      "0.7651920517285665\n",
      "-0.008344709873199463\n",
      "Te\t 0.04768496751785278 0.005992192511788169\n",
      "0.7531681855519613\n",
      "0.7054832180341085\n",
      "0.04768496751785278\n",
      " 2_ 2_ 3e-05\n",
      "Te\t 0.01651110251744588 0.010541317565693284\n",
      "0.7568473418553671\n",
      "0.7651920517285665\n",
      "-0.008344709873199463\n",
      "Te\t 0.011677265167236328 0.01118520649705711\n",
      "0.7114708622296652\n",
      "0.717666486899058\n",
      "-0.00619562466939283\n",
      " 2_ 3_ 3e-05\n",
      "Te\t 0.01651110251744588 0.010541317565693284\n",
      "0.7568473418553671\n",
      "0.7651920517285665\n",
      "-0.008344709873199463\n",
      "Te\t 0.01142291227976481 0.002774174003872975\n",
      "0.7305616736412048\n",
      "0.7191387613614401\n",
      "0.011422912279764774\n",
      " 2_ 4_ 3e-05\n",
      "Te\t 0.015010992685953775 0.005673425923506973\n",
      "0.7667811314264933\n",
      "0.7817921241124471\n",
      "-0.01501099268595385\n",
      "Te\t 0.04050004482269287 0.026526138276754617\n",
      "0.731174886226654\n",
      "0.6906748414039612\n",
      "0.04050004482269287\n",
      " 2_ 5_ 3e-05\n",
      "Te\t 0.015010992685953775 0.005673425923506973\n",
      "0.7667811314264933\n",
      "0.7817921241124471\n",
      "-0.01501099268595385\n",
      "Te\t 0.04143755634625753 0.02869693634484017\n",
      "0.48822663227717084\n",
      "0.44866131742795307\n",
      "0.03956531484921777\n"
     ]
    }
   ],
   "source": [
    "for exp_id in exps:\n",
    "    if '3e-05' not in exp_id:\n",
    "        continue\n",
    "    #if '2_' not in exp_id or '-1_ ' in exp_id:\n",
    "    #    continue\n",
    "    resO = collect_results(exps[exp_id], ('acc_avg', 'F1-macro_all'),1 , None)\n",
    "    print(exp_id)\n",
    "\n",
    "    for alg in resO:\n",
    "        #res_test_str = \"ES_{} \".format(alg) +print_row(resO[alg]['test'], ('acc_avg', 'F1-macro_all'))\n",
    "        #res_id_t_str = \"ES_{} \".format(alg) +print_row(resO[alg]['id_test'], ('acc_avg', 'F1-macro_all'))\n",
    "        #res_train_str = \"ES_{} \".format(alg) +print_row(resO[alg]['train'], ('acc_avg', 'F1-macro_all'))\n",
    "        A = np.abs(np.array(resO[alg]['test']['acc_avg']) - np.array(resO[alg]['id_test']['acc_avg']))\n",
    "        print(\"Te\\t\", np.mean(A), np.std(A)  )\n",
    "        print(np.mean(resO[alg]['id_test']['acc_avg']))\n",
    "        print(np.mean(resO[alg]['test']['acc_avg']))\n",
    "        print(np.mean(resO[alg]['id_test']['acc_avg']) - np.mean(resO[alg]['test']['acc_avg']))\n",
    "        #print(\"ID \\t\", res_id_t_str)\n",
    "        #print(\"Tr \\t\", res_train_str)"
   ]
  },
  {
   "cell_type": "code",
   "execution_count": 64,
   "id": "hollywood-tablet",
   "metadata": {},
   "outputs": [],
   "source": [
    "XEr = [0.4873271663983663, 0.6282318035761515, 0.7397694381078085, 0.77605616736412048, 0.7800920517285665, 0.7817921241124471]\n",
    "GenE = [0.00619562466939283, 0.008344709873199463, 0.00907487473487854, 0.0107487473487854, 0.04086331526438395, 0.08612317840258281]\n",
    "GenSTD = [0.003912323237987352, 0.01234607061316756, 0.011542196683491582, 0.010793568426243629, 0.025002675977335204, 0.021559831678537995]"
   ]
  },
  {
   "cell_type": "code",
   "execution_count": 65,
   "id": "expressed-knitting",
   "metadata": {},
   "outputs": [
    {
     "data": {
      "text/plain": [
       "array([0.43113154, 0.61988709, 0.73069456, 0.76530742, 0.7390572 ,\n",
       "       0.69566895])"
      ]
     },
     "execution_count": 65,
     "metadata": {},
     "output_type": "execute_result"
    }
   ],
   "source": [
    "np.array(NXer) - np.array(GenE)"
   ]
  },
  {
   "cell_type": "code",
   "execution_count": 66,
   "id": "british-rendering",
   "metadata": {},
   "outputs": [],
   "source": [
    "#XEr = [0.5116098423798879, 0.6858801444371542, 0.7340718110402426, 0.7667811314264933, 0.7777921241124471, 0.78474874734]\n",
    "#GenE = [0.011651110251744588, 0.013665298620859781, 0.0197487473487854, 0.030889312426249187, 0.04086331526438395, 0.08612317840258281]\n",
    "#GenSTD = [0.010541317565693284, 0.004864948126780324, 0.018260127957685966, 0.02789840280635204, 0.016464591994962217, 0.027581544749164046]"
   ]
  },
  {
   "cell_type": "code",
   "execution_count": 71,
   "id": "dominican-greeting",
   "metadata": {},
   "outputs": [
    {
     "data": {
      "image/png": "[encoded data removed]",
      "text/plain": [
       "<Figure size 720x360 with 1 Axes>"
      ]
     },
     "metadata": {},
     "output_type": "display_data"
    }
   ],
   "source": [
    "plt.style.use('seaborn')\n",
    "plt.figure(figsize=(10,5))\n",
    "plt.errorbar(100-100*np.array(XEr), 100*np.array(GenE),yerr=100*np.array(GenSTD),barsabove=True,fmt='-o', markersize=8,marker='D', linestyle='--')\n",
    "plt.fill_between(100-100*np.array(XEr), 100*np.array(GenE)-100*np.array(GenSTD), 100*np.array(GenE)+100*np.array(GenSTD),alpha=0.2)\n",
    "plt.savefig('empirical_rdt_new.pdf')"
   ]
  },
  {
   "cell_type": "code",
   "execution_count": 88,
   "id": "banned-delta",
   "metadata": {},
   "outputs": [
    {
     "data": {
      "text/plain": [
       "array([48.83901576, 31.41198556, 26.5928189 , 23.32188686, 21.82078759,\n",
       "       21.52512527])"
      ]
     },
     "execution_count": 88,
     "metadata": {},
     "output_type": "execute_result"
    }
   ],
   "source": [
    "100-100*np.array(XEr)"
   ]
  },
  {
   "cell_type": "code",
   "execution_count": 99,
   "id": "major-metadata",
   "metadata": {},
   "outputs": [
    {
     "data": {
      "image/png": "[encoded data removed]",
      "text/plain": [
       "<Figure size 1000x500 with 1 Axes>"
      ]
     },
     "metadata": {},
     "output_type": "display_data"
    }
   ],
   "source": [
    "plt.style.use('default')\n",
    "plt.figure(figsize=(10,5))\n",
    "plt.errorbar(100-100*np.array(XEr), 100*np.array(GenE),yerr=100*np.array(GenSTD),barsabove=True,fmt='-o', markersize=8,marker='D', linestyle='--')\n",
    "plt.fill_between(100-100*np.array(XEr), 100*np.array(GenE)-100*np.array(GenSTD), 100*np.array(GenE)+100*np.array(GenSTD),alpha=0.15)\n",
    "plt.savefig('empirical_rdt.pdf')"
   ]
  },
  {
   "cell_type": "code",
   "execution_count": null,
   "id": "christian-alcohol",
   "metadata": {},
   "outputs": [],
   "source": []
  }
 ],
 "metadata": {
  "kernelspec": {
   "display_name": "Python 3",
   "language": "python",
   "name": "python3"
  },
  "language_info": {
   "codemirror_mode": {
    "name": "ipython",
    "version": 3
   },
   "file_extension": ".py",
   "mimetype": "text/x-python",
   "name": "python",
   "nbconvert_exporter": "python",
   "pygments_lexer": "ipython3",
   "version": "3.8.2"
  }
 },
 "nbformat": 4,
 "nbformat_minor": 5
}
